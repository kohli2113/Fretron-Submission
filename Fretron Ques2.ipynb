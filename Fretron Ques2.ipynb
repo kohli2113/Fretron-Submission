{
 "cells": [
  {
   "cell_type": "markdown",
   "id": "1a66b6cc",
   "metadata": {},
   "source": [
    "# Problem 2 : My Money My Shares"
   ]
  },
  {
   "cell_type": "code",
   "execution_count": 3,
   "id": "830e2617",
   "metadata": {},
   "outputs": [
    {
     "name": "stdout",
     "output_type": "stream",
     "text": [
      "Enter apple weight in gram (-1 to stop) : 400\n",
      "Enter apple weight in gram (-1 to stop) : 100\n",
      "Enter apple weight in gram (-1 to stop) : 400\n",
      "Enter apple weight in gram (-1 to stop) : 300\n",
      "Enter apple weight in gram (-1 to stop) : 200\n",
      "Enter apple weight in gram (-1 to stop) : 300\n",
      "Enter apple weight in gram (-1 to stop) : 100\n",
      "Enter apple weight in gram (-1 to stop) : 200\n",
      "Enter apple weight in gram (-1 to stop) : -1\n",
      "Distribution Result :\n",
      "Ram : 400 300 200 100\n",
      "Sham : 400 200\n",
      "Rahim : 300 100\n"
     ]
    }
   ],
   "source": [
    "def distribute_apples():\n",
    "    amounts = {'Ram': 50, 'Sham': 30, 'Rahim': 20}\n",
    "    ttl_amount = sum(amounts.values())  #calculating the total amount that they will pay\n",
    "    proportions = {person: amount / ttl_amount for person, amount in amounts.items()}  #calculating the proportions\n",
    "\n",
    "    #taking inputs for apple weights\n",
    "    apple_weights = []\n",
    "    while True:\n",
    "        weight = int(input(\"Enter apple weight in gram (-1 to stop) : \"))\n",
    "        if weight == -1:\n",
    "            break\n",
    "        apple_weights.append(weight)\n",
    "        \n",
    "    apple_weights.sort(reverse=True)\n",
    "    total_weight = sum(apple_weights)\n",
    "    \n",
    "    distribution = {'Ram': [], 'Sham': [], 'Rahim': []}  #initialising for the output\n",
    "    caw = {'Ram': 0, 'Sham': 0, 'Rahim': 0}  #initialising the current allocated weight\n",
    "    taw={person:total_weight*prop for person, prop in proportions.items()}  #finding the target allocated weight\n",
    "\n",
    "    for weight in apple_weights:\n",
    "        #finding the person who should be alloted the apple(which is closest to the weight of apple)\n",
    "        person = min(distribution, key=lambda person: (caw[person] - taw[person]) / taw[person])\n",
    "        #adding the weight of current apple to that person in both lists\n",
    "        distribution[person].append(weight)\n",
    "        caw[person] += weight\n",
    "        \n",
    "    print(\"Distribution Result :\")\n",
    "    for person, weights in distribution.items():\n",
    "        print(f\"{person} : {' '.join(map(str, weights))}\")\n",
    "\n",
    "distribute_apples()\n"
   ]
  }
 ],
 "metadata": {
  "kernelspec": {
   "display_name": "Python 3 (ipykernel)",
   "language": "python",
   "name": "python3"
  },
  "language_info": {
   "codemirror_mode": {
    "name": "ipython",
    "version": 3
   },
   "file_extension": ".py",
   "mimetype": "text/x-python",
   "name": "python",
   "nbconvert_exporter": "python",
   "pygments_lexer": "ipython3",
   "version": "3.9.13"
  }
 },
 "nbformat": 4,
 "nbformat_minor": 5
}
